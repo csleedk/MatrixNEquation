{
  "nbformat": 4,
  "nbformat_minor": 0,
  "metadata": {
    "colab": {
      "provenance": []
    },
    "kernelspec": {
      "name": "python3",
      "display_name": "Python 3"
    },
    "language_info": {
      "name": "python"
    },
    "gpuClass": "standard"
  },
  "cells": [
    {
      "cell_type": "markdown",
      "source": [
        "Hello World! 출력"
      ],
      "metadata": {
        "id": "3HuqtWXS3Hu3"
      }
    },
    {
      "cell_type": "code",
      "execution_count": 39,
      "metadata": {
        "colab": {
          "base_uri": "https://localhost:8080/"
        },
        "id": "nZ-qJPHc1Cjc",
        "outputId": "51908fe7-03f4-4f02-a7b2-1235dae3e1b0"
      },
      "outputs": [
        {
          "output_type": "stream",
          "name": "stdout",
          "text": [
            "Hello World\n"
          ]
        }
      ],
      "source": [
        "print(\"Hello World\")"
      ]
    },
    {
      "cell_type": "code",
      "source": [
        "x = 1\n",
        "y = 2\n",
        "\n",
        "print(x)\n",
        "print(y)"
      ],
      "metadata": {
        "colab": {
          "base_uri": "https://localhost:8080/"
        },
        "id": "11iRxzTi2tQg",
        "outputId": "cd7746e8-b481-4a68-903a-7bb99020bc4c"
      },
      "execution_count": null,
      "outputs": [
        {
          "output_type": "stream",
          "name": "stdout",
          "text": [
            "1\n",
            "2\n"
          ]
        }
      ]
    },
    {
      "cell_type": "code",
      "source": [
        "z = \"Hello\"\n",
        "print(z)"
      ],
      "metadata": {
        "colab": {
          "base_uri": "https://localhost:8080/"
        },
        "id": "m8vI2I0c295d",
        "outputId": "4612a647-e4f3-4438-9378-a308b90779a4"
      },
      "execution_count": null,
      "outputs": [
        {
          "output_type": "stream",
          "name": "stdout",
          "text": [
            "Hello\n"
          ]
        }
      ]
    },
    {
      "cell_type": "markdown",
      "source": [
        "기본 연산자"
      ],
      "metadata": {
        "id": "SV3TqaHE3Rny"
      }
    },
    {
      "cell_type": "code",
      "source": [
        "x = 1\n",
        "y = 2\n",
        "z = 1.2\n",
        "\n",
        "print(x + y)\n",
        "print(x - y)\n",
        "print(x * y)\n",
        "print(x / y)\n",
        "print(x % y)\n",
        "print(x ** y)"
      ],
      "metadata": {
        "colab": {
          "base_uri": "https://localhost:8080/"
        },
        "id": "oyvK2l533Dxt",
        "outputId": "efb29591-c0cf-48d6-cb6a-19826aabdbd1"
      },
      "execution_count": null,
      "outputs": [
        {
          "output_type": "stream",
          "name": "stdout",
          "text": [
            "3\n",
            "-1\n",
            "2\n",
            "0.5\n",
            "1\n",
            "1\n"
          ]
        }
      ]
    },
    {
      "cell_type": "code",
      "source": [
        "print(True and True)\n",
        "print(True and False)\n",
        "print(True or False)\n",
        "print(not True)"
      ],
      "metadata": {
        "colab": {
          "base_uri": "https://localhost:8080/"
        },
        "id": "RTSgqEMu334Q",
        "outputId": "3c59aa24-7ca2-4d19-ba31-e3b0753d1f55"
      },
      "execution_count": null,
      "outputs": [
        {
          "output_type": "stream",
          "name": "stdout",
          "text": [
            "True\n",
            "False\n",
            "True\n",
            "False\n"
          ]
        }
      ]
    },
    {
      "cell_type": "code",
      "source": [
        "x = 3\n",
        "\n",
        "print(x < 3)\n",
        "print(x <= 3)\n",
        "print(x > 3)\n",
        "print(x >= 3)\n",
        "print(x == 3)\n",
        "print(x != 3)"
      ],
      "metadata": {
        "colab": {
          "base_uri": "https://localhost:8080/"
        },
        "id": "LPm3jjx036Y8",
        "outputId": "68860916-2ee6-4323-c55b-4f389e073956"
      },
      "execution_count": null,
      "outputs": [
        {
          "output_type": "stream",
          "name": "stdout",
          "text": [
            "False\n",
            "True\n",
            "False\n",
            "True\n",
            "True\n",
            "False\n"
          ]
        }
      ]
    },
    {
      "cell_type": "code",
      "source": [
        "age = 25\n",
        "x = 19 < age and age < 65\n",
        "print(x)"
      ],
      "metadata": {
        "colab": {
          "base_uri": "https://localhost:8080/"
        },
        "id": "4rOQMLdY4PTJ",
        "outputId": "319b6cf7-b3c0-4104-8d2a-def4c10e4cac"
      },
      "execution_count": null,
      "outputs": [
        {
          "output_type": "stream",
          "name": "stdout",
          "text": [
            "True\n"
          ]
        }
      ]
    },
    {
      "cell_type": "markdown",
      "source": [
        "문자열 변수"
      ],
      "metadata": {
        "id": "8k1oaVJM4WRj"
      }
    },
    {
      "cell_type": "code",
      "source": [
        "x = \"Hello\"\n",
        "y = 'World'\n",
        "z = \"\"\"안녕하세요.\n",
        "반갑습니다.\"\"\"\n",
        "\n",
        "print(x)\n",
        "print(y)\n",
        "print(z)\n",
        "\n",
        "print(x+\" \"+y)\n",
        "print(x*2)\n",
        "\n",
        "#print(\"몇 살이니? \" + 4)\n",
        "print(\"몇 살이니? \" + str(4))"
      ],
      "metadata": {
        "colab": {
          "base_uri": "https://localhost:8080/"
        },
        "id": "bDZbr-YD4U6y",
        "outputId": "b174f02a-5757-4c56-936d-e65a033743a9"
      },
      "execution_count": null,
      "outputs": [
        {
          "output_type": "stream",
          "name": "stdout",
          "text": [
            "Hello\n",
            "World\n",
            "안녕하세요.\n",
            "반갑습니다.\n",
            "Hello World\n",
            "HelloHello\n",
            "몇 살이니? 4\n"
          ]
        }
      ]
    },
    {
      "cell_type": "markdown",
      "source": [
        "키보드 입력 받기"
      ],
      "metadata": {
        "id": "6mbYKa7S483e"
      }
    },
    {
      "cell_type": "code",
      "source": [
        "a = input(\"키 : \")\n",
        "\n",
        "print(a)\n",
        "print(type(a))\n",
        "\n",
        "a = int(a)\n",
        "print(type(a))"
      ],
      "metadata": {
        "colab": {
          "base_uri": "https://localhost:8080/"
        },
        "id": "-ygcNgPS41Rh",
        "outputId": "addacc32-91f6-4fa1-a88b-9b26defc1181"
      },
      "execution_count": null,
      "outputs": [
        {
          "output_type": "stream",
          "name": "stdout",
          "text": [
            "키 : 190\n",
            "190\n",
            "<class 'str'>\n",
            "<class 'int'>\n"
          ]
        }
      ]
    },
    {
      "cell_type": "code",
      "source": [
        "b = float(input(\"weight : \"))\n",
        "print(b)\n",
        "type(b)"
      ],
      "metadata": {
        "colab": {
          "base_uri": "https://localhost:8080/"
        },
        "id": "LfFIRso35tQH",
        "outputId": "5194644b-7034-450d-c56f-1fc7ebeb230b"
      },
      "execution_count": null,
      "outputs": [
        {
          "output_type": "stream",
          "name": "stdout",
          "text": [
            "weight : 67.8\n",
            "67.8\n"
          ]
        },
        {
          "output_type": "execute_result",
          "data": {
            "text/plain": [
              "float"
            ]
          },
          "metadata": {},
          "execution_count": 10
        }
      ]
    },
    {
      "cell_type": "markdown",
      "source": [
        "조건문(if, if-else, if-elif-else)"
      ],
      "metadata": {
        "id": "BGDDtuqj6BIm"
      }
    },
    {
      "cell_type": "code",
      "source": [
        "x = 2\n",
        "\n",
        "if x > 1:\n",
        "  print(\"Hello\")\n",
        "\n",
        "if not x > 1:\n",
        "  print(\"World\")\n",
        "\n",
        "  x = x+1\n",
        "  print(x)\n",
        "\n",
        "  if x > 3:\n",
        "    print(\"Hello\")\n",
        "  else:\n",
        "    print(\"Bye\")"
      ],
      "metadata": {
        "colab": {
          "base_uri": "https://localhost:8080/"
        },
        "id": "wi-1OeDm55UY",
        "outputId": "f85fa308-9249-4336-8a1f-c342d246a714"
      },
      "execution_count": null,
      "outputs": [
        {
          "output_type": "stream",
          "name": "stdout",
          "text": [
            "Hello\n"
          ]
        }
      ]
    },
    {
      "cell_type": "code",
      "source": [
        "a = int(input(\"나이를 입력: \"))\n",
        "\n",
        "if 13 <= a and a <= 19 :\n",
        "  print(\"청소년 입니다.\")"
      ],
      "metadata": {
        "colab": {
          "base_uri": "https://localhost:8080/"
        },
        "id": "ZEcTspQM6gD_",
        "outputId": "6b096689-85bb-4262-b82d-246111aa072a"
      },
      "execution_count": null,
      "outputs": [
        {
          "output_type": "stream",
          "name": "stdout",
          "text": [
            "나이를 입력: 16\n",
            "청소년 입니다.\n"
          ]
        }
      ]
    },
    {
      "cell_type": "code",
      "source": [
        "a = int(input(\"숫자를 입력: \"))\n",
        "\n",
        "if a < 0:\n",
        "  print(\"자연수가 아닙니다.\")\n",
        "elif a%2 == 0:\n",
        "  print(\"짝수입니다.\")\n",
        "else:\n",
        "  print(\"홀수입니다.\")\n"
      ],
      "metadata": {
        "colab": {
          "base_uri": "https://localhost:8080/"
        },
        "id": "5KsJ84Md7gQo",
        "outputId": "f9ac28ab-28ce-46a4-cb47-6b90e2e6c296"
      },
      "execution_count": null,
      "outputs": [
        {
          "output_type": "stream",
          "name": "stdout",
          "text": [
            "숫자를 입력: 3\n",
            "홀수입니다.\n"
          ]
        }
      ]
    },
    {
      "cell_type": "markdown",
      "source": [
        "반복문(while, for)"
      ],
      "metadata": {
        "id": "5kG_WMJJ78H6"
      }
    },
    {
      "cell_type": "code",
      "source": [
        "i = 0\n",
        "while i<3:\n",
        "  print(i)\n",
        "  i = i+1"
      ],
      "metadata": {
        "colab": {
          "base_uri": "https://localhost:8080/"
        },
        "id": "cQRg478-72kO",
        "outputId": "6741d28a-2de9-40ac-ea47-a417a5c72dc1"
      },
      "execution_count": null,
      "outputs": [
        {
          "output_type": "stream",
          "name": "stdout",
          "text": [
            "0\n",
            "1\n",
            "2\n"
          ]
        }
      ]
    },
    {
      "cell_type": "code",
      "source": [
        "for i in range(3):\n",
        "  print(i)"
      ],
      "metadata": {
        "colab": {
          "base_uri": "https://localhost:8080/"
        },
        "id": "JJa4CX_m8qG4",
        "outputId": "38f36f89-b512-4107-a8f0-0f03eb364f2e"
      },
      "execution_count": null,
      "outputs": [
        {
          "output_type": "stream",
          "name": "stdout",
          "text": [
            "0\n",
            "1\n",
            "2\n"
          ]
        }
      ]
    },
    {
      "cell_type": "code",
      "source": [
        "i = 1\n",
        "while i <= 5:\n",
        "  print(\"*\" * i)\n",
        "  i += 1"
      ],
      "metadata": {
        "colab": {
          "base_uri": "https://localhost:8080/"
        },
        "id": "1ufpNM-Y8tbi",
        "outputId": "38212e9e-bfae-4a5d-bb95-c56ad3057b3f"
      },
      "execution_count": null,
      "outputs": [
        {
          "output_type": "stream",
          "name": "stdout",
          "text": [
            "*\n",
            "**\n",
            "***\n",
            "****\n",
            "*****\n"
          ]
        }
      ]
    },
    {
      "cell_type": "code",
      "source": [
        "for i in range(10):\n",
        "  print(i, end = ' ')"
      ],
      "metadata": {
        "colab": {
          "base_uri": "https://localhost:8080/"
        },
        "id": "uheaT31b817l",
        "outputId": "8d2e58eb-0e80-49ea-9ce0-4f4e601e00da"
      },
      "execution_count": null,
      "outputs": [
        {
          "output_type": "stream",
          "name": "stdout",
          "text": [
            "0 1 2 3 4 5 6 7 8 9 "
          ]
        }
      ]
    },
    {
      "cell_type": "code",
      "source": [
        "for i in range(1, 10):\n",
        "  print(i, end = ' ' )"
      ],
      "metadata": {
        "colab": {
          "base_uri": "https://localhost:8080/"
        },
        "id": "-Ca6t1IE875B",
        "outputId": "f3171f73-5ba0-434c-dd86-0c2906c17427"
      },
      "execution_count": null,
      "outputs": [
        {
          "output_type": "stream",
          "name": "stdout",
          "text": [
            "1 2 3 4 5 6 7 8 9 "
          ]
        }
      ]
    },
    {
      "cell_type": "code",
      "source": [
        "for i in range(1, 10, 2):\n",
        "  print(i, end = ' ')"
      ],
      "metadata": {
        "colab": {
          "base_uri": "https://localhost:8080/"
        },
        "id": "OU5P9whP9BOi",
        "outputId": "ca1d1a93-75c2-4da9-eb5f-ca38cf664e57"
      },
      "execution_count": null,
      "outputs": [
        {
          "output_type": "stream",
          "name": "stdout",
          "text": [
            "1 3 5 7 9 "
          ]
        }
      ]
    },
    {
      "cell_type": "code",
      "source": [
        "a = ['호', '랑', '이']\n",
        "for i in a:\n",
        "  print(i)"
      ],
      "metadata": {
        "colab": {
          "base_uri": "https://localhost:8080/"
        },
        "id": "9wyKV_1c9INF",
        "outputId": "2aaff8b5-11f2-4429-ee3d-8bb192b7699e"
      },
      "execution_count": null,
      "outputs": [
        {
          "output_type": "stream",
          "name": "stdout",
          "text": [
            "호\n",
            "랑\n",
            "이\n"
          ]
        }
      ]
    },
    {
      "cell_type": "markdown",
      "source": [
        "break, continue"
      ],
      "metadata": {
        "id": "KfS3Qe2h9WoT"
      }
    },
    {
      "cell_type": "code",
      "source": [
        "i = 0\n",
        "while True:\n",
        "  print(\"Hello\")\n",
        "  i = i + 1\n",
        "  if i > 2:\n",
        "    break"
      ],
      "metadata": {
        "colab": {
          "base_uri": "https://localhost:8080/"
        },
        "id": "MhfTxsvs9UHB",
        "outputId": "1ef88e17-ab1c-4b76-ecb7-fa64dc2df316"
      },
      "execution_count": null,
      "outputs": [
        {
          "output_type": "stream",
          "name": "stdout",
          "text": [
            "Hello\n",
            "Hello\n",
            "Hello\n"
          ]
        }
      ]
    },
    {
      "cell_type": "code",
      "source": [
        "for i in  range(5):\n",
        "  if i > 2:\n",
        "    continue\n",
        "\n",
        "  print(i)"
      ],
      "metadata": {
        "colab": {
          "base_uri": "https://localhost:8080/"
        },
        "id": "JbgP0g4E9htX",
        "outputId": "2a99af6e-cb74-4bb4-95b3-9364814ba064"
      },
      "execution_count": null,
      "outputs": [
        {
          "output_type": "stream",
          "name": "stdout",
          "text": [
            "0\n",
            "1\n",
            "2\n"
          ]
        }
      ]
    },
    {
      "cell_type": "markdown",
      "source": [
        "문자열의 연결, 반복, 인덱싱, 슬라이싱"
      ],
      "metadata": {
        "id": "zM4R3_UC95-E"
      }
    },
    {
      "cell_type": "code",
      "source": [
        "a = '?Python '\n",
        "b = 'String!'\n",
        "S = a + b\n",
        "print(S)\n",
        "\n",
        "print(a * 2)\n",
        "print(a * 2 + b *2)\n",
        "\n",
        "print(S[0])\n",
        "print(S[3])\n",
        "print(S[len(S)-1])\n",
        "\n",
        "print(S[-1])\n",
        "print(S[-len(S)])\n",
        "print(S[3:7])\n",
        "print(S[3:])\n",
        "print(S[:7])\n",
        "print(S[-5:-1])\n",
        "print(S[-5:])\n"
      ],
      "metadata": {
        "colab": {
          "base_uri": "https://localhost:8080/"
        },
        "id": "qkj_hE1h9tY9",
        "outputId": "1c06a57b-ac89-43b0-ab19-8bc3973a5adc"
      },
      "execution_count": null,
      "outputs": [
        {
          "output_type": "stream",
          "name": "stdout",
          "text": [
            "?Python String!\n",
            "?Python ?Python \n",
            "?Python ?Python String!String!\n",
            "?\n",
            "t\n",
            "!\n",
            "!\n",
            "?\n",
            "thon\n",
            "thon String!\n",
            "?Python\n",
            "ring\n",
            "ring!\n"
          ]
        }
      ]
    },
    {
      "cell_type": "markdown",
      "source": [
        "문자열 메소드"
      ],
      "metadata": {
        "id": "LfdfbY0V_cd4"
      }
    },
    {
      "cell_type": "code",
      "source": [
        "a = ['Python', 'String', 'Test']\n",
        "S = '-'\n",
        "print(S.join(a))\n",
        "\n",
        "','.join(a)\n",
        "\n",
        "b = ':'.join(a)\n",
        "\n",
        "print(b.split(':'))\n",
        "\n",
        "print(S)\n",
        "print(b)"
      ],
      "metadata": {
        "colab": {
          "base_uri": "https://localhost:8080/"
        },
        "id": "BHpEn9pz-7_8",
        "outputId": "cca2c6d6-2a17-4d72-cce4-3d4227df7848"
      },
      "execution_count": 60,
      "outputs": [
        {
          "output_type": "stream",
          "name": "stdout",
          "text": [
            "Python-String-Test\n",
            "['Python', 'String', 'Test']\n",
            "-\n",
            "Python:String:Test\n"
          ]
        }
      ]
    },
    {
      "cell_type": "code",
      "source": [
        "S = 'Python is easy'\n",
        "S.replace('Python', 'Python')\n",
        "\n",
        "print(S.upper())\n",
        "print(S.lower())\n",
        "print(S.capitalize())"
      ],
      "metadata": {
        "colab": {
          "base_uri": "https://localhost:8080/"
        },
        "id": "b-3zxtna__jg",
        "outputId": "2db5dc81-eebe-4c7d-d5ac-bb6e00d3881f"
      },
      "execution_count": null,
      "outputs": [
        {
          "output_type": "stream",
          "name": "stdout",
          "text": [
            "PYTHON IS EASY\n",
            "python is easy\n",
            "Python is easy\n"
          ]
        }
      ]
    },
    {
      "cell_type": "code",
      "source": [
        "S = 'This is an island'\n",
        "print(S.count('is'))\n",
        "print(S.find('is'))\n",
        "print(S.find('is', 3, len(S)))\n",
        "print(S.index('i'))\n",
        "print(S.index('i', 3, len(S)))\n",
        "print(S.find('are'))\n",
        "#S.index('are)\n"
      ],
      "metadata": {
        "colab": {
          "base_uri": "https://localhost:8080/"
        },
        "id": "p2xEDEbG_1tl",
        "outputId": "e0fb81d4-126c-4896-e075-0495c6ac5e67"
      },
      "execution_count": null,
      "outputs": [
        {
          "output_type": "stream",
          "name": "stdout",
          "text": [
            "3\n",
            "2\n",
            "5\n",
            "2\n",
            "5\n",
            "-1\n"
          ]
        }
      ]
    },
    {
      "cell_type": "code",
      "source": [
        "'is' in S\n",
        "'are' not in S\n",
        "a = '1234'\n",
        "b = 'abcd'\n",
        "c = '56ef'\n",
        "print(a.isdigit())\n",
        "print(b.isalpha())\n",
        "print(c.isalnum())"
      ],
      "metadata": {
        "colab": {
          "base_uri": "https://localhost:8080/"
        },
        "id": "_CWAFFOf-eFs",
        "outputId": "d64f02dc-1887-4763-b8e8-2f4d331d278c"
      },
      "execution_count": null,
      "outputs": [
        {
          "output_type": "stream",
          "name": "stdout",
          "text": [
            "True\n",
            "True\n",
            "True\n"
          ]
        }
      ]
    },
    {
      "cell_type": "markdown",
      "source": [
        "연습 문제"
      ],
      "metadata": {
        "id": "tqh98UJ6DDd9"
      }
    },
    {
      "cell_type": "markdown",
      "source": [
        "1. 염기서열을 문자열로 입력 받고, 'a'가 몇 번 들어있는지 카운트 하기"
      ],
      "metadata": {
        "id": "yJobVA8ADWbH"
      }
    },
    {
      "cell_type": "code",
      "source": [
        "s = input(\"염기서열을 입력하세요: \")\n",
        "c = 0\n",
        "for i in range(0, len(s)):\n",
        "  if s[i] == 'a':\n",
        "    c = c + 1\n",
        "\n",
        "print(c)\n",
        "print(s.count('a'))"
      ],
      "metadata": {
        "colab": {
          "base_uri": "https://localhost:8080/"
        },
        "id": "GxHfbK3tDQRo",
        "outputId": "cb2cb863-af7c-424d-9f6f-b6c7f4cbd08b"
      },
      "execution_count": null,
      "outputs": [
        {
          "output_type": "stream",
          "name": "stdout",
          "text": [
            "염기서열을 입력하세요: gcgugugcua\n",
            "1\n",
            "1\n"
          ]
        }
      ]
    },
    {
      "cell_type": "markdown",
      "source": [
        "2. 1 - 100까지의 정수 중 3의 배수를 제외한 숫자들의 합을 구하기"
      ],
      "metadata": {
        "id": "Ti07wAwfERFe"
      }
    },
    {
      "cell_type": "code",
      "source": [
        "sum = 0\n",
        "for i in range(1, 101):\n",
        "  if i%3 == 0:\n",
        "    continue\n",
        "  sum += i\n",
        "\n",
        "print(sum)\n"
      ],
      "metadata": {
        "colab": {
          "base_uri": "https://localhost:8080/"
        },
        "id": "b8qivMa_ElC3",
        "outputId": "49d8d61d-8cc9-4428-af72-e7136853db8d"
      },
      "execution_count": null,
      "outputs": [
        {
          "output_type": "stream",
          "name": "stdout",
          "text": [
            "3367\n"
          ]
        }
      ]
    },
    {
      "cell_type": "markdown",
      "source": [
        "3. 다음과 같은 패턴으로 출력하기"
      ],
      "metadata": {
        "id": "tgm4y2fEFNS_"
      }
    },
    {
      "cell_type": "code",
      "source": [
        "i = 1\n",
        "while i <= 5:\n",
        "  print(\"*\" * i)\n",
        "  i += 1"
      ],
      "metadata": {
        "colab": {
          "base_uri": "https://localhost:8080/"
        },
        "id": "OcNPB2FjDqOw",
        "outputId": "63cfdbc0-7602-4f51-8f76-797cd94dbd4d"
      },
      "execution_count": null,
      "outputs": [
        {
          "output_type": "stream",
          "name": "stdout",
          "text": [
            "*\n",
            "**\n",
            "***\n",
            "****\n",
            "*****\n"
          ]
        }
      ]
    },
    {
      "cell_type": "code",
      "source": [
        "for i in range(1, 6):\n",
        "  print(\"*\" * i)"
      ],
      "metadata": {
        "colab": {
          "base_uri": "https://localhost:8080/"
        },
        "id": "jKVCae-FIWPN",
        "outputId": "2389a75c-d10b-4fa4-9814-d3e7bf6dfd8f"
      },
      "execution_count": 66,
      "outputs": [
        {
          "output_type": "stream",
          "name": "stdout",
          "text": [
            "*\n",
            "**\n",
            "***\n",
            "****\n",
            "*****\n"
          ]
        }
      ]
    },
    {
      "cell_type": "code",
      "source": [
        "for i in range(1, 6):\n",
        "  print(\"{:>5}\".format(\"*\" * i))"
      ],
      "metadata": {
        "colab": {
          "base_uri": "https://localhost:8080/"
        },
        "id": "iGWn1VGYH112",
        "outputId": "fceb27a2-5a0c-44cf-8c70-d79d1cf1125c"
      },
      "execution_count": 67,
      "outputs": [
        {
          "output_type": "stream",
          "name": "stdout",
          "text": [
            "    *\n",
            "   **\n",
            "  ***\n",
            " ****\n",
            "*****\n"
          ]
        }
      ]
    },
    {
      "cell_type": "code",
      "source": [
        "\n",
        "for i in range(5, 0, -1):\n",
        "  print(\"{:>5}\".format(\"*\" * i))\n"
      ],
      "metadata": {
        "colab": {
          "base_uri": "https://localhost:8080/"
        },
        "id": "ZUT8iz7ZGTi-",
        "outputId": "25b94abe-9bd2-4a03-e837-76cb5395fa91"
      },
      "execution_count": 68,
      "outputs": [
        {
          "output_type": "stream",
          "name": "stdout",
          "text": [
            "*****\n",
            " ****\n",
            "  ***\n",
            "   **\n",
            "    *\n"
          ]
        }
      ]
    },
    {
      "cell_type": "markdown",
      "source": [
        "함수(Function)"
      ],
      "metadata": {
        "id": "5ux3R9OiI6cU"
      }
    },
    {
      "cell_type": "code",
      "source": [
        "def say(myname):\n",
        "  print(\"반갑다! \" + myname)\n",
        "\n",
        "say(\"철수\")"
      ],
      "metadata": {
        "colab": {
          "base_uri": "https://localhost:8080/"
        },
        "id": "xV55p45zFoqf",
        "outputId": "ef18ba49-e827-4989-8d8b-eb3dc8edfa4c"
      },
      "execution_count": null,
      "outputs": [
        {
          "output_type": "stream",
          "name": "stdout",
          "text": [
            "반갑다! 철수\n"
          ]
        }
      ]
    },
    {
      "cell_type": "code",
      "source": [
        "def mysum(a, b):\n",
        "  result = a + b\n",
        "  return result\n",
        "\n",
        "print(mysum(1, 2))\n",
        "x = mysum(10, 11)"
      ],
      "metadata": {
        "colab": {
          "base_uri": "https://localhost:8080/"
        },
        "id": "MkeJGQImJKsE",
        "outputId": "b6378af1-3dc3-4401-d61a-66862f09cd70"
      },
      "execution_count": null,
      "outputs": [
        {
          "output_type": "stream",
          "name": "stdout",
          "text": [
            "3\n"
          ]
        }
      ]
    },
    {
      "cell_type": "code",
      "source": [
        "def sayHello(age, name):\n",
        "  if age < 10:\n",
        "    print(\"안녕 \"+ name)\n",
        "  elif 10 <= age and age <= 20:\n",
        "    print(\"안녕하세요 \" + name)\n",
        "  else:\n",
        "    print(\"안녕하십니까? \" + name)\n",
        "\n",
        "sayHello(7, \"철수\")\n",
        "sayHello(17, \"영희\")\n",
        "sayHello(34, \"영철\")"
      ],
      "metadata": {
        "colab": {
          "base_uri": "https://localhost:8080/"
        },
        "id": "7mYiENXcN8sg",
        "outputId": "d0beda12-2586-4e3f-f9b1-c72d5d0ecb23"
      },
      "execution_count": null,
      "outputs": [
        {
          "output_type": "stream",
          "name": "stdout",
          "text": [
            "안녕 철수\n",
            "안녕하세요 영희\n",
            "안녕하십니까? 영철\n"
          ]
        }
      ]
    },
    {
      "cell_type": "markdown",
      "source": [
        "자료구조 - 리스트(list)"
      ],
      "metadata": {
        "id": "wpO5dz51SZSk"
      }
    },
    {
      "cell_type": "code",
      "source": [
        "x = list()\n",
        "y = []\n",
        "\n",
        "x = [4, 2, 3, 1]\n",
        "y = [\"Hello\", \"world\"]\n",
        "z = [\"Hello\", 1, 2, 3]\n",
        "\n",
        "print(x)\n",
        "print(y)\n",
        "print(z)\n",
        "print(x+y)\n",
        "\n",
        "print(x[1])\n",
        "x[3] = 10\n",
        "print(x)\n",
        "\n",
        "#IndexError : list index out of range\n",
        "#print(x[4])\n",
        "\n",
        "print(len(x))\n",
        "\n",
        "s = sorted(x)\n",
        "print(s)\n",
        "\n",
        "for n in x:\n",
        "  print(n)\n",
        "\n",
        "print(y.index(\"world\"))\n",
        "#print(z.index(\"hell\"))\n",
        "print(\"world\" in z)\n",
        "\n",
        "if \"hello\" in x:\n",
        "  print(\"hello가 있습니다.\")\n",
        "else:\n",
        "  print(\"hello가 없습니다.\")"
      ],
      "metadata": {
        "colab": {
          "base_uri": "https://localhost:8080/"
        },
        "id": "bMvzvvuXQ6_b",
        "outputId": "827ca499-40d4-4f06-bcb8-0f6544692bd3"
      },
      "execution_count": null,
      "outputs": [
        {
          "output_type": "stream",
          "name": "stdout",
          "text": [
            "[4, 2, 3, 1]\n",
            "['Hello', 'world']\n",
            "['Hello', 1, 2, 3]\n",
            "[4, 2, 3, 1, 'Hello', 'world']\n",
            "2\n",
            "[4, 2, 3, 10]\n",
            "4\n",
            "[2, 3, 4, 10]\n",
            "4\n",
            "2\n",
            "3\n",
            "10\n",
            "1\n",
            "False\n",
            "hello가 없습니다.\n"
          ]
        }
      ]
    },
    {
      "cell_type": "markdown",
      "source": [
        "자료구조 - 튜플(tuple)"
      ],
      "metadata": {
        "id": "BLHBxt5dVa3k"
      }
    },
    {
      "cell_type": "code",
      "source": [
        "x = tuple()\n",
        "y = ()\n",
        "\n",
        "print(x)\n",
        "print(y)\n",
        "\n",
        "x = (1,2, 3)\n",
        "y = ('a', 'b', 'c')\n",
        "z = (\"Hello\", 11, 21, 31)\n",
        "\n",
        "print(x+y)\n",
        "print('a' in y)\n",
        "print(z.index(11))\n",
        "\n",
        "#x[0] = 10\n",
        "#print(x)"
      ],
      "metadata": {
        "colab": {
          "base_uri": "https://localhost:8080/"
        },
        "id": "PTIpRa7DT5A0",
        "outputId": "4944413d-7be7-435d-d3d5-09064aaae791"
      },
      "execution_count": null,
      "outputs": [
        {
          "output_type": "stream",
          "name": "stdout",
          "text": [
            "()\n",
            "()\n",
            "(1, 2, 3, 'a', 'b', 'c')\n",
            "True\n",
            "1\n"
          ]
        }
      ]
    },
    {
      "cell_type": "markdown",
      "source": [
        "자료구조 - 딕셔너리(dictionary)"
      ],
      "metadata": {
        "id": "Ie3PtRNBhSXg"
      }
    },
    {
      "cell_type": "code",
      "source": [
        "x = dict()\n",
        "y = {}\n",
        "\n",
        "x = {\"name\":\"과학\", \"age\":17}\n",
        "print(x[\"name\"])\n",
        "print(x[\"age\"])\n",
        "\n",
        "print(\"age\" in x)\n",
        "print(\"height\" in x)\n",
        "\n",
        "print(x.keys())\n",
        "print(x.values())\n",
        "\n",
        "for k in x:\n",
        "  print(\"key->\" + str(k))\n",
        "  print(\"value->\" + str(x[k]))\n",
        "\n",
        "x[\"height\"] = 165\n",
        "print(x)"
      ],
      "metadata": {
        "colab": {
          "base_uri": "https://localhost:8080/"
        },
        "id": "LHukxmGmg6Kq",
        "outputId": "0e8af0de-73f9-46a9-f878-19e4f2f9da4c"
      },
      "execution_count": null,
      "outputs": [
        {
          "output_type": "stream",
          "name": "stdout",
          "text": [
            "과학\n",
            "17\n",
            "True\n",
            "False\n",
            "dict_keys(['name', 'age'])\n",
            "dict_values(['과학', 17])\n",
            "key->name\n",
            "value->과학\n",
            "key->age\n",
            "value->17\n",
            "{'name': '과학', 'age': 17, 'height': 165}\n"
          ]
        }
      ]
    },
    {
      "cell_type": "markdown",
      "source": [
        "자료구조 - 집합(set)"
      ],
      "metadata": {
        "id": "7prf8S41iSCS"
      }
    },
    {
      "cell_type": "code",
      "source": [
        "A = {1, 2, 3, 4}\n",
        "B = {3, 4, 5, 6}\n",
        "\n",
        "A | B\n",
        "A.union(B)\n",
        "\n",
        "A & B\n",
        "A.intersection(B)\n",
        "\n",
        "A - B\n",
        "A.difference(B)\n",
        "\n",
        "B - A\n",
        "B.difference(A)"
      ],
      "metadata": {
        "colab": {
          "base_uri": "https://localhost:8080/"
        },
        "id": "E57-KDu1TyAg",
        "outputId": "c927c5be-c20f-48e4-e6ad-ff2638b87626"
      },
      "execution_count": null,
      "outputs": [
        {
          "output_type": "execute_result",
          "data": {
            "text/plain": [
              "{5, 6}"
            ]
          },
          "metadata": {},
          "execution_count": 8
        }
      ]
    },
    {
      "cell_type": "code",
      "source": [
        "fruits = [\"사과\", \"사과\", \"바나나\", \"딸기\", \"포도\", \"사과\", \"딸기\"]\n",
        "d = {}\n",
        "\n",
        "for f in fruits:\n",
        "  if f in d:\n",
        "    d[f] = d[f] + 1\n",
        "  else:\n",
        "    d[f] = 1\n",
        "  print(d)\n",
        "\n",
        "print(d)"
      ],
      "metadata": {
        "colab": {
          "base_uri": "https://localhost:8080/"
        },
        "id": "zug9pPo2imQH",
        "outputId": "5bec001e-d3bc-4a49-c50b-066d25ad65fa"
      },
      "execution_count": 82,
      "outputs": [
        {
          "output_type": "stream",
          "name": "stdout",
          "text": [
            "{'사과': 1}\n",
            "{'사과': 2}\n",
            "{'사과': 2, '바나나': 1}\n",
            "{'사과': 2, '바나나': 1, '딸기': 1}\n",
            "{'사과': 2, '바나나': 1, '딸기': 1, '포도': 1}\n",
            "{'사과': 3, '바나나': 1, '딸기': 1, '포도': 1}\n",
            "{'사과': 3, '바나나': 1, '딸기': 2, '포도': 1}\n",
            "{'사과': 3, '바나나': 1, '딸기': 2, '포도': 1}\n"
          ]
        }
      ]
    },
    {
      "cell_type": "markdown",
      "source": [
        "Python 모듈, 패키지"
      ],
      "metadata": {
        "id": "5TRYo6nNjli-"
      }
    },
    {
      "cell_type": "markdown",
      "source": [
        "모듈과 패키지 사용하기"
      ],
      "metadata": {
        "id": "K-JXbB43jxU_"
      }
    },
    {
      "cell_type": "code",
      "source": [
        "# import로 모듈 가져와서 사용하기\n",
        "import math\n",
        "import random\n",
        "print(math.pi)\n",
        "print(math.sqrt(9))\n",
        "print(random.randint(1, 108))"
      ],
      "metadata": {
        "colab": {
          "base_uri": "https://localhost:8080/"
        },
        "id": "IbjLnEPHjjgH",
        "outputId": "11037ec1-eb40-4c7d-bb5c-7ff553bbb936"
      },
      "execution_count": 101,
      "outputs": [
        {
          "output_type": "stream",
          "name": "stdout",
          "text": [
            "3.141592653589793\n",
            "3.0\n",
            "68\n"
          ]
        }
      ]
    },
    {
      "cell_type": "code",
      "source": [
        "#from import로 모듈의 일부만 가져오기\n",
        "from math import pi\n",
        "from random import randint\n",
        "print(pi)\n",
        "print(randint(1, 108))"
      ],
      "metadata": {
        "colab": {
          "base_uri": "https://localhost:8080/"
        },
        "id": "K0YLH9TokFp7",
        "outputId": "1e82ac32-1a1a-4e00-8ce7-856b4f5df50b"
      },
      "execution_count": 102,
      "outputs": [
        {
          "output_type": "stream",
          "name": "stdout",
          "text": [
            "3.141592653589793\n",
            "87\n"
          ]
        }
      ]
    },
    {
      "cell_type": "code",
      "source": [
        "# import as로 모듈 이름 새롭게 지정하여 사용하기\n",
        "import math as m\n",
        "import random as r\n",
        "print(m.pi)\n",
        "print(m.sqrt(9))\n",
        "print(r.randint(1, 108))"
      ],
      "metadata": {
        "colab": {
          "base_uri": "https://localhost:8080/"
        },
        "id": "AwJ8eQZrkXCw",
        "outputId": "b9b6739d-a8d8-498f-9495-62315e29de07"
      },
      "execution_count": 103,
      "outputs": [
        {
          "output_type": "stream",
          "name": "stdout",
          "text": [
            "3.141592653589793\n",
            "3.0\n",
            "4\n"
          ]
        }
      ]
    },
    {
      "cell_type": "code",
      "source": [
        "# from ~ import ~ as ~\n",
        "from math import sqrt as s\n",
        "from random import randint as ri\n",
        "print(s(9.0))\n",
        "print(ri(1, 108))"
      ],
      "metadata": {
        "colab": {
          "base_uri": "https://localhost:8080/"
        },
        "id": "GzIj2RmVkqh8",
        "outputId": "719ba14f-f6e1-49bd-e526-b4ac465e0318"
      },
      "execution_count": 104,
      "outputs": [
        {
          "output_type": "stream",
          "name": "stdout",
          "text": [
            "3.0\n",
            "36\n"
          ]
        }
      ]
    },
    {
      "cell_type": "markdown",
      "source": [
        "방정식의 해를 구해보자"
      ],
      "metadata": {
        "id": "7RVE3qfzk8eW"
      }
    },
    {
      "cell_type": "code",
      "source": [
        "#Python으로 그래프 그리기\n",
        "import matplotlib.pyplot as plt\n",
        "plt.plot([1, 2, 3, 4], [1, 4, 9, 16])\n",
        "plt.show()"
      ],
      "metadata": {
        "colab": {
          "base_uri": "https://localhost:8080/",
          "height": 265
        },
        "id": "amPMKhbxk5sH",
        "outputId": "3b6bfcf6-9a51-418a-b191-e135f534dc94"
      },
      "execution_count": null,
      "outputs": [
        {
          "output_type": "display_data",
          "data": {
            "text/plain": [
              "<Figure size 432x288 with 1 Axes>"
            ],
            "image/png": "[encoded data removed]"
          },
          "metadata": {
            "needs_background": "light"
          }
        }
      ]
    },
    {
      "cell_type": "code",
      "source": [
        "#Python으로 그래프 그리기\n",
        "import matplotlib.pyplot as plt\n",
        "plt.plot([1.0, 1.5, 2.0, 1.0], [1.0, 1.5, 1.0, 1.0])\n",
        "plt.show()"
      ],
      "metadata": {
        "colab": {
          "base_uri": "https://localhost:8080/",
          "height": 265
        },
        "id": "zRO6s4x_I0sw",
        "outputId": "a1b862bf-a1c0-45c6-dd60-1a2a676237fd"
      },
      "execution_count": 126,
      "outputs": [
        {
          "output_type": "display_data",
          "data": {
            "text/plain": [
              "<Figure size 432x288 with 1 Axes>"
            ],
            "image/png": "[encoded data removed]"
          },
          "metadata": {
            "needs_background": "light"
          }
        }
      ]
    },
    {
      "cell_type": "code",
      "source": [
        "#Python으로 그래프 그리기\n",
        "import matplotlib.pyplot as plt\n",
        "plt.plot([1.0, 1.0, 2.0, 2.0, 1.0], [1.0, 2.0, 2.0, 1.0, 1.0])\n",
        "plt.show()"
      ],
      "metadata": {
        "colab": {
          "base_uri": "https://localhost:8080/",
          "height": 265
        },
        "id": "X0S_-YvJHx53",
        "outputId": "9e3b05f7-2325-419c-d5ad-591dd346997c"
      },
      "execution_count": 125,
      "outputs": [
        {
          "output_type": "display_data",
          "data": {
            "text/plain": [
              "<Figure size 432x288 with 1 Axes>"
            ],
            "image/png": "[encoded data removed]"
          },
          "metadata": {
            "needs_background": "light"
          }
        }
      ]
    },
    {
      "cell_type": "code",
      "source": [
        "import numpy as np\n",
        "import matplotlib.tri as mtri\n",
        "\n",
        "x = np.array([1, 1.5, 2])\n",
        "y = np.array([1, 1.5, 1])\n",
        "triangles = [[0, 1, 2]]\n",
        "triang = mtri.Triangulation(x, y, triangles)\n",
        "plt.title(\"Triangle\")\n",
        "plt.triplot(triang)\n",
        "plt.xlim(1.0, 2.0)\n",
        "plt.ylim(1.0, 1.52)\n",
        "plt.show()"
      ],
      "metadata": {
        "colab": {
          "base_uri": "https://localhost:8080/",
          "height": 281
        },
        "id": "wRw6pOwOlVu5",
        "outputId": "5334495e-b246-4970-97c1-7da8d5539637"
      },
      "execution_count": 127,
      "outputs": [
        {
          "output_type": "display_data",
          "data": {
            "text/plain": [
              "<Figure size 432x288 with 1 Axes>"
            ],
            "image/png": "[encoded data removed]"
          },
          "metadata": {
            "needs_background": "light"
          }
        }
      ]
    },
    {
      "cell_type": "code",
      "source": [
        "import matplotlib.pyplot as plt\n",
        "import numpy as np\n",
        "fig=plt.figure()\n",
        "ax=fig.add_subplot(1,1,1)\n",
        "rect = plt.Rectangle((0.2,0.75),0.2,0.2,color='r',alpha=0.1)\n",
        "circ = plt.Circle((0.7,0.2),0.15,color='g',alpha=0.5)\n",
        "pgon = plt.Polygon([[0.1,0.2],[0.3,0.2],[0.2,0.4]],color='b',alpha=1.0)\n",
        "ax.add_patch(rect)\n",
        "ax.add_patch(circ)\n",
        "ax.add_patch(pgon)\n",
        "plt.show()"
      ],
      "metadata": {
        "colab": {
          "base_uri": "https://localhost:8080/",
          "height": 269
        },
        "id": "AIPIkK-ToeHd",
        "outputId": "f0aa0832-9407-47f6-bd7e-78e86c10f4e0"
      },
      "execution_count": 94,
      "outputs": [
        {
          "output_type": "display_data",
          "data": {
            "text/plain": [
              "<Figure size 432x288 with 1 Axes>"
            ],
            "image/png": "[encoded data removed]"
          },
          "metadata": {
            "needs_background": "light"
          }
        }
      ]
    },
    {
      "cell_type": "code",
      "source": [
        "import matplotlib.pyplot as plt\n",
        "import numpy as np\n",
        "\n",
        "th = np.arange(0, 2*np.pi, 0.01)\n",
        "x = np.cos(th)\n",
        "y = np.sin(th)\n",
        "\n",
        "plt.figure(figsize=(5,5))\n",
        "plt.plot(x,y)\n",
        "plt.show()"
      ],
      "metadata": {
        "colab": {
          "base_uri": "https://localhost:8080/",
          "height": 320
        },
        "id": "ylyljK2T1PM0",
        "outputId": "f329dca7-0293-47bf-f685-a3d601eec8a8"
      },
      "execution_count": 96,
      "outputs": [
        {
          "output_type": "display_data",
          "data": {
            "text/plain": [
              "<Figure size 360x360 with 1 Axes>"
            ],
            "image/png": "[encoded data removed]"
          },
          "metadata": {
            "needs_background": "light"
          }
        }
      ]
    },
    {
      "cell_type": "code",
      "source": [
        "import matplotlib.pyplot as plt\n",
        "import numpy as np\n",
        "\n",
        "x = np.arange(0, 5, 0.2)\n",
        "\n",
        "plt.plot(x, x, 'r--', x, x**2, 'bs', x, x**3, 'g^')\n",
        "plt.show()"
      ],
      "metadata": {
        "colab": {
          "base_uri": "https://localhost:8080/",
          "height": 265
        },
        "id": "J1Nvpr2m1r_H",
        "outputId": "58890692-071d-43e3-e84c-e0dbca01881c"
      },
      "execution_count": null,
      "outputs": [
        {
          "output_type": "display_data",
          "data": {
            "text/plain": [
              "<Figure size 432x288 with 1 Axes>"
            ],
            "image/png": "[encoded data removed]"
          },
          "metadata": {
            "needs_background": "light"
          }
        }
      ]
    },
    {
      "cell_type": "code",
      "source": [
        "import matplotlib.pyplot as plt\n",
        "import numpy as np\n",
        "\n",
        "def f(x):\n",
        "    return x**2+x+3\n",
        "\n",
        "x = np.arange(0, 5, 0.2)\n",
        "y = np.arange(0, 5, 0.2)\n",
        "plt.plot(x, f(x))"
      ],
      "metadata": {
        "colab": {
          "base_uri": "https://localhost:8080/",
          "height": 283
        },
        "id": "SFL8_5lS5EMG",
        "outputId": "0df6bcd4-8f1e-43dd-db0b-964ba1f28538"
      },
      "execution_count": null,
      "outputs": [
        {
          "output_type": "execute_result",
          "data": {
            "text/plain": [
              "[<matplotlib.lines.Line2D at 0x7f94e0b69730>]"
            ]
          },
          "metadata": {},
          "execution_count": 13
        },
        {
          "output_type": "display_data",
          "data": {
            "text/plain": [
              "<Figure size 432x288 with 1 Axes>"
            ],
            "image/png": "[encoded data removed]"
          },
          "metadata": {
            "needs_background": "light"
          }
        }
      ]
    },
    {
      "cell_type": "code",
      "source": [
        "def section_search(f,a,b):\n",
        "  if f(a)*f(b) < 0:\n",
        "           print(\"근이 존재함\")\n",
        "           return None \n",
        "  else:\n",
        "    print(\"근의 존재가 불분명함\")\n",
        "    return None\n",
        "\n",
        "def f(x):\n",
        "  return x**2-2*x\n",
        "\n",
        "section_search(f,1,3)\n",
        "section_search(f,0.5,1.5)\n",
        "section_search(f,-0.5,1)"
      ],
      "metadata": {
        "colab": {
          "base_uri": "https://localhost:8080/"
        },
        "id": "-skTfaI25_ai",
        "outputId": "e75ad21d-4e4b-49aa-f85a-f94a7771e139"
      },
      "execution_count": null,
      "outputs": [
        {
          "output_type": "stream",
          "name": "stdout",
          "text": [
            "근이 존재함\n",
            "근의 존재가 불분명함\n",
            "근이 존재함\n"
          ]
        }
      ]
    },
    {
      "cell_type": "code",
      "source": [
        "def bisection(f,x1,x2):\n",
        "  m = (x1 + x2)/2\n",
        "\n",
        "  if f(x1)*f(m) < 0:\n",
        "    x2 = m\n",
        "  elif f(x2)*f(m):\n",
        "    x1 = m\n",
        "  else:\n",
        "    print(\"이분법 실패\")\n",
        "\n",
        "  return x1, x2\n",
        "\n",
        "def f(x):\n",
        "  return -x**2+2*x"
      ],
      "metadata": {
        "id": "VpG-wevV5mE6"
      },
      "execution_count": null,
      "outputs": []
    },
    {
      "cell_type": "code",
      "source": [
        "x1,x2 = bisection(f,1.1,3.2)\n",
        "print(\"1차 시도\",x1,x2)\n",
        "x1,x2 = bisection(f,x1,x2)\n",
        "print(\"2차 시도\",x1,x2)\n",
        "x1,x2 = bisection(f,x1,x2)\n",
        "print(\"3차 시도\",x1,x2)\n",
        "x1,x2 = bisection(f,x1,x2)\n",
        "print(\"4차 시도\",x1,x2)\n",
        "x1,x2 = bisection(f,x1,x2)\n",
        "print(\"5차 시도\",x1,x2)"
      ],
      "metadata": {
        "colab": {
          "base_uri": "https://localhost:8080/"
        },
        "id": "qtZ3kFSYBwHS",
        "outputId": "85426658-d418-4a9b-f144-08b0ddf2d3ef"
      },
      "execution_count": null,
      "outputs": [
        {
          "output_type": "stream",
          "name": "stdout",
          "text": [
            "1차 시도 1.1 2.1500000000000004\n",
            "2차 시도 1.6250000000000002 2.1500000000000004\n",
            "3차 시도 1.8875000000000002 2.1500000000000004\n",
            "4차 시도 1.8875000000000002 2.0187500000000003\n",
            "5차 시도 1.9531250000000002 2.0187500000000003\n"
          ]
        }
      ]
    },
    {
      "cell_type": "code",
      "source": [
        "def bisection_N(f,x1,x2,N):\n",
        "  for n in range(1,N+1):\n",
        "    x1,x2 = bisection(f,x1,x2)\n",
        "  return x1,x2\n",
        "\n",
        "def f(x):\n",
        "  return -x**2+2*x"
      ],
      "metadata": {
        "id": "w9bSprehB0ft"
      },
      "execution_count": 35,
      "outputs": []
    },
    {
      "cell_type": "code",
      "source": [
        "  x1,x2 = bisection_N(f,1.1,3.5,5)\n",
        "  print(\"두 점:\",x1,x2)\n",
        "  print(\"근: \",(x1+x2)/2)"
      ],
      "metadata": {
        "colab": {
          "base_uri": "https://localhost:8080/"
        },
        "id": "ZtYpEPR6UBsW",
        "outputId": "d4de406d-4477-411b-f7c3-432c8bcefbe1"
      },
      "execution_count": 40,
      "outputs": [
        {
          "output_type": "stream",
          "name": "stdout",
          "text": [
            "이분법 실패\n",
            "이분법 실패\n",
            "이분법 실패\n",
            "두 점: 1.7 2.3\n",
            "근:  2.0\n"
          ]
        }
      ]
    },
    {
      "cell_type": "code",
      "source": [
        "import math\n",
        "\n",
        "def f(x):\n",
        "  return -x**2+2*x\n",
        "\n",
        "def bisection_eps(f,x1,x2,eps):\n",
        "  N=int(math.log2(abs(x1-x2)/eps))\n",
        "  for n in range(1,N+1):\n",
        "    x1,x2 = bisection(f,x1,x2)\n",
        "  return x1,x2\n"
      ],
      "metadata": {
        "id": "FpVErjjqOemM"
      },
      "execution_count": 45,
      "outputs": []
    },
    {
      "cell_type": "code",
      "source": [
        "  x1,x2 = bisection_eps(f,1.1,3.2,0.0001)\n",
        "  print(\"두 점:\",x1,x2)\n",
        "  print(\"근: \",(x1+x2)/2)\n"
      ],
      "metadata": {
        "colab": {
          "base_uri": "https://localhost:8080/"
        },
        "id": "PED7kwoSUMOb",
        "outputId": "1f072769-c825-4b2e-f1ec-0fba792d76fa"
      },
      "execution_count": 47,
      "outputs": [
        {
          "output_type": "stream",
          "name": "stdout",
          "text": [
            "두 점: 1.9999084472656254 2.0000366210937504\n",
            "근:  1.999972534179688\n"
          ]
        }
      ]
    },
    {
      "cell_type": "code",
      "source": [
        "\n",
        "\n",
        "def Newton_Raphson(f_x, fp_x, x_init):\n",
        "  return x_init-f_x(x_init)/fp_x(f_x,x_init)\n",
        "\n",
        "def F_x(x):\n",
        "  return -x**2+2*x\n",
        "\n",
        "def Fp_x(F_x,x):\n",
        "  eps=0.0001\n",
        "  return (F_x(x+eps)-F_x(x))/eps"
      ],
      "metadata": {
        "id": "ZTEKY369ZibA"
      },
      "execution_count": 97,
      "outputs": []
    },
    {
      "cell_type": "code",
      "source": [
        "x_result=Newton_Raphson(F_x,Fp_x,1.1)\n",
        "print(\"1차 시도: \",x_result)\n",
        "x_result=Newton_Raphson(F_x,Fp_x,x_result)\n",
        "print(\"2차 시도: \",x_result)\n",
        "x_result=Newton_Raphson(F_x,Fp_x,x_result)\n",
        "print(\"3차 시도: \",x_result)\n",
        "x_result=Newton_Raphson(F_x,Fp_x,x_result)\n",
        "print(\"4차 시도: \",x_result)\n",
        "x_result=Newton_Raphson(F_x,Fp_x,x_result)\n",
        "print(\"5차 시도: \",x_result)"
      ],
      "metadata": {
        "colab": {
          "base_uri": "https://localhost:8080/"
        },
        "id": "3NVNUAlMbfeT",
        "outputId": "56aa388f-a130-4833-ab5d-0503999fac6c"
      },
      "execution_count": 98,
      "outputs": [
        {
          "output_type": "stream",
          "name": "stdout",
          "text": [
            "1차 시도:  6.04752623686419\n",
            "2차 시도:  3.622845562090182\n",
            "3차 시도:  2.502076796540959\n",
            "4차 시도:  2.083924778483365\n",
            "5차 시도:  2.0032527329331935\n"
          ]
        }
      ]
    },
    {
      "cell_type": "code",
      "source": [
        "N=int(input(\"반복 연산 횟수: \"))\n",
        "x_result=float(input(\"초기값: \"))\n",
        "\n",
        "for temp in range(1,N+1):\n",
        "  x_result=Newton_Raphson(F_x,Fp_x,x_result)\n",
        "\n",
        "print(\"근: \",x_result)"
      ],
      "metadata": {
        "colab": {
          "base_uri": "https://localhost:8080/"
        },
        "id": "8cMPTBo_b7Mh",
        "outputId": "56f3fe9d-fcee-4fc0-d235-7a77fa4e1224"
      },
      "execution_count": 53,
      "outputs": [
        {
          "output_type": "stream",
          "name": "stdout",
          "text": [
            "반복 연산 횟수: 100\n",
            "초기값: 1\n",
            "근:  2.0\n"
          ]
        }
      ]
    },
    {
      "cell_type": "code",
      "source": [
        "import numpy as np\n",
        "\n",
        "A=np.array([[1,0], [0,2]])\n",
        "B=np.array([100,100])\n",
        "C=np.linalg.solve(A, B)\n",
        "print(C)\n",
        "type(C)"
      ],
      "metadata": {
        "colab": {
          "base_uri": "https://localhost:8080/"
        },
        "id": "4ANyeS_Cj39I",
        "outputId": "34634c6f-e334-4c6c-ac94-ce069464d860"
      },
      "execution_count": 63,
      "outputs": [
        {
          "output_type": "stream",
          "name": "stdout",
          "text": [
            "[100.  50.]\n"
          ]
        },
        {
          "output_type": "execute_result",
          "data": {
            "text/plain": [
              "numpy.ndarray"
            ]
          },
          "metadata": {},
          "execution_count": 63
        }
      ]
    },
    {
      "cell_type": "code",
      "source": [
        "import numpy as np\n",
        "\n",
        "A=np.array([[1,2], [1,1.5]])\n",
        "B=np.array([3,2])\n",
        "C=np.linalg.solve(A, B)\n",
        "print(C)"
      ],
      "metadata": {
        "colab": {
          "base_uri": "https://localhost:8080/"
        },
        "id": "k2wK9iT6j8bo",
        "outputId": "288b870c-b54a-46b4-a18c-4f8c6177e36d"
      },
      "execution_count": 64,
      "outputs": [
        {
          "output_type": "stream",
          "name": "stdout",
          "text": [
            "[-1.  2.]\n"
          ]
        },
        {
          "output_type": "execute_result",
          "data": {
            "text/plain": [
              "numpy.ndarray"
            ]
          },
          "metadata": {},
          "execution_count": 64
        }
      ]
    },
    {
      "cell_type": "code",
      "source": [
        "import numpy as np\n",
        "A=np.array([[1,2], [0,0.5]])\n",
        "B=np.array([3,1])\n",
        "C=np.linalg.solve(A, B)\n",
        "print(C)"
      ],
      "metadata": {
        "colab": {
          "base_uri": "https://localhost:8080/"
        },
        "id": "5_uPUs0TlbVx",
        "outputId": "2b3b9cb0-8f40-43ff-c020-e6c6bfcc3b7d"
      },
      "execution_count": 65,
      "outputs": [
        {
          "output_type": "stream",
          "name": "stdout",
          "text": [
            "[-1.  2.]\n"
          ]
        }
      ]
    },
    {
      "cell_type": "code",
      "source": [
        "i=1\n",
        "n=3\n",
        "for j in range(i+1,n):\n",
        "  ratio=A[j][i]/A[i][i]\n",
        "  for k in range(n+1):\n",
        "    A[j][k]-=ratio*A[i][k]\n",
        "\n",
        "print(A)"
      ],
      "metadata": {
        "colab": {
          "base_uri": "https://localhost:8080/",
          "height": 245
        },
        "id": "Vy1nUl9kcZ7D",
        "outputId": "3f9585f4-fa4e-4643-82c6-ebe824aa1172"
      },
      "execution_count": 56,
      "outputs": [
        {
          "output_type": "error",
          "ename": "NameError",
          "evalue": "ignored",
          "traceback": [
            "\u001b[0;31m---------------------------------------------------------------------------\u001b[0m",
            "\u001b[0;31mNameError\u001b[0m                                 Traceback (most recent call last)",
            "\u001b[0;32m<ipython-input-56-99f3e44892fe>\u001b[0m in \u001b[0;36m<module>\u001b[0;34m\u001b[0m\n\u001b[1;32m      2\u001b[0m \u001b[0mn\u001b[0m\u001b[0;34m=\u001b[0m\u001b[0;36m3\u001b[0m\u001b[0;34m\u001b[0m\u001b[0;34m\u001b[0m\u001b[0m\n\u001b[1;32m      3\u001b[0m \u001b[0;32mfor\u001b[0m \u001b[0mj\u001b[0m \u001b[0;32min\u001b[0m \u001b[0mrange\u001b[0m\u001b[0;34m(\u001b[0m\u001b[0mi\u001b[0m\u001b[0;34m+\u001b[0m\u001b[0;36m1\u001b[0m\u001b[0;34m,\u001b[0m\u001b[0mn\u001b[0m\u001b[0;34m)\u001b[0m\u001b[0;34m:\u001b[0m\u001b[0;34m\u001b[0m\u001b[0;34m\u001b[0m\u001b[0m\n\u001b[0;32m----> 4\u001b[0;31m   \u001b[0mratio\u001b[0m\u001b[0;34m=\u001b[0m\u001b[0mA\u001b[0m\u001b[0;34m[\u001b[0m\u001b[0mj\u001b[0m\u001b[0;34m]\u001b[0m\u001b[0;34m[\u001b[0m\u001b[0mi\u001b[0m\u001b[0;34m]\u001b[0m\u001b[0;34m/\u001b[0m\u001b[0mA\u001b[0m\u001b[0;34m[\u001b[0m\u001b[0mi\u001b[0m\u001b[0;34m]\u001b[0m\u001b[0;34m[\u001b[0m\u001b[0mi\u001b[0m\u001b[0;34m]\u001b[0m\u001b[0;34m\u001b[0m\u001b[0;34m\u001b[0m\u001b[0m\n\u001b[0m\u001b[1;32m      5\u001b[0m   \u001b[0;32mfor\u001b[0m \u001b[0mk\u001b[0m \u001b[0;32min\u001b[0m \u001b[0mrange\u001b[0m\u001b[0;34m(\u001b[0m\u001b[0mn\u001b[0m\u001b[0;34m+\u001b[0m\u001b[0;36m1\u001b[0m\u001b[0;34m)\u001b[0m\u001b[0;34m:\u001b[0m\u001b[0;34m\u001b[0m\u001b[0;34m\u001b[0m\u001b[0m\n\u001b[1;32m      6\u001b[0m     \u001b[0mA\u001b[0m\u001b[0;34m[\u001b[0m\u001b[0mj\u001b[0m\u001b[0;34m]\u001b[0m\u001b[0;34m[\u001b[0m\u001b[0mk\u001b[0m\u001b[0;34m]\u001b[0m\u001b[0;34m-=\u001b[0m\u001b[0mratio\u001b[0m\u001b[0;34m*\u001b[0m\u001b[0mA\u001b[0m\u001b[0;34m[\u001b[0m\u001b[0mi\u001b[0m\u001b[0;34m]\u001b[0m\u001b[0;34m[\u001b[0m\u001b[0mk\u001b[0m\u001b[0;34m]\u001b[0m\u001b[0;34m\u001b[0m\u001b[0;34m\u001b[0m\u001b[0m\n",
            "\u001b[0;31mNameError\u001b[0m: name 'A' is not defined"
          ]
        }
      ]
    },
    {
      "cell_type": "code",
      "source": [],
      "metadata": {
        "id": "Aijx2Wd_j1_i"
      },
      "execution_count": null,
      "outputs": []
    }
  ]
}